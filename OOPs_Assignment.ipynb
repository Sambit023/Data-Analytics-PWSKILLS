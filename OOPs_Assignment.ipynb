{
  "cells": [
    {
      "cell_type": "markdown",
      "metadata": {
        "id": "xTcRHNV2ocSo"
      },
      "source": [
        "1) What are the five key concept of Object Oriented\n",
        "   Programming?\n",
        "\n",
        "  Ans:- Class, Object, Inheritance, Abstraction,\n",
        "        Polymorphism, Encapsulation are the some of the key concepts in OOPs.\n",
        "         "
      ]
    },
    {
      "cell_type": "code",
      "execution_count": null,
      "metadata": {
        "colab": {
          "base_uri": "https://localhost:8080/"
        },
        "id": "HAkiPoizra28",
        "outputId": "c8c0cfe0-886e-48f2-e880-adddbe122b37"
      },
      "outputs": [
        {
          "name": "stdout",
          "output_type": "stream",
          "text": [
            "Make: Maruti Suzuki\n",
            "Model: Ciaz\n",
            "Year: 2015\n"
          ]
        }
      ],
      "source": [
        "# 2)Write a Python class for a 'Car' with attributes for 'make', 'model', and 'year'.\n",
        "#   Include a method to display the car's information.\n",
        "\n",
        "class Car:\n",
        "    def __init__(self, make, model, year):\n",
        "        self.make = make\n",
        "        self.model = model\n",
        "        self.year = year\n",
        "\n",
        "    def car_info(self):\n",
        "        print(\"Make:\", self.make)\n",
        "        print(\"Model:\",self.model)\n",
        "        print(\"Year:\", self.year)\n",
        "\n",
        "car1 = Car(\"Maruti Suzuki\", \"Ciaz\", 2015)\n",
        "car1.car_info()"
      ]
    },
    {
      "cell_type": "code",
      "execution_count": null,
      "metadata": {
        "colab": {
          "base_uri": "https://localhost:8080/"
        },
        "id": "8PLib0TLtKhr",
        "outputId": "1bd66476-22c8-46fa-c239-b977a488cb52"
      },
      "outputs": [
        {
          "data": {
            "text/plain": [
              "('Ranjan', 'Devendra')"
            ]
          },
          "execution_count": 28,
          "metadata": {},
          "output_type": "execute_result"
        }
      ],
      "source": [
        "# 3)  Explain the difference between instance methods and class methods. Provide an example of each.\n",
        "\n",
        "#   Ans:- In Instance method we use 'self' keyword as first parameter while define the method in a class\n",
        "#         to makes sure that each object knows that the method is associated with it.\n",
        "\n",
        "#         In Class method we use 'cls' as first parameter while define method in class with '@classmethod' decorator.\n",
        "\n",
        "\n",
        "class Student:\n",
        "  def __init__(self, name):\n",
        "      self.name = name\n",
        "\n",
        "  @classmethod\n",
        "  def student_details(cls, name1):\n",
        "    return cls(name1)\n",
        "\n",
        "\n",
        "std1 = Student(\"Ranjan\")\n",
        "std1.name\n",
        "\n",
        "std2 = Student.student_details(\"Devendra\")\n",
        "std2.name\n",
        "\n",
        "std1.name, std2.name\n"
      ]
    },
    {
      "cell_type": "code",
      "execution_count": null,
      "metadata": {
        "colab": {
          "base_uri": "https://localhost:8080/"
        },
        "id": "nQZV_YSl0BwD",
        "outputId": "88c0ac2a-14dc-48d4-97b1-22c4b89cf7ae"
      },
      "outputs": [
        {
          "name": "stdout",
          "output_type": "stream",
          "text": [
            "Welcome to pwskills class;  \n",
            "Welcome to pwskills class; Ranjan \n",
            "Welcome to pwskills class; Ranjan Data Science\n"
          ]
        }
      ],
      "source": [
        "# 4)  How does Python implement method overloading? Give an example.\n",
        "\n",
        "class Student:\n",
        "    def student(self):\n",
        "        print(\"Welcome to pwskills class!!!\")\n",
        "    def student(self, name = \"\"):\n",
        "        print(\"Welcome to pwskills class:\", name)\n",
        "    def student(self, name = \"\", course = \"\"):\n",
        "        print(\"Welcome to pwskills class;\", name, course)\n",
        "\n",
        "# Method overloading >> student method is taking different forms, the last methods overloads the previous ones\n",
        "#                       in the same class.\n",
        "\n",
        "std1 = Student()\n",
        "std1.student()\n",
        "std1.student(\"Ranjan\")\n",
        "std1.student(\"Ranjan\", \"Data Science\")"
      ]
    },
    {
      "cell_type": "markdown",
      "metadata": {
        "id": "V8PldU5hvmTl"
      },
      "source": [
        "5) What are the three types of access modifiers in Python?\n",
        "   How are they denoted?\n",
        "\n",
        "   Ans:- Public, Protected & Private are access modifiers  which control the accessibility of class members.\n",
        "\n",
        "   Public: No special notation, accessible from anywhere in the program.\n",
        "\n",
        "   Protected: Prefixed with a single underscore (_member), accessible within the class and its subclasses.\n",
        "\n",
        "   Private: Prefixed with a double underscore (__member), intended to be used only within the class itself."
      ]
    },
    {
      "cell_type": "code",
      "execution_count": null,
      "metadata": {
        "colab": {
          "base_uri": "https://localhost:8080/"
        },
        "id": "j6JD7bBJxOpz",
        "outputId": "80a12044-dfd0-43c5-fd92-899947097c76"
      },
      "outputs": [
        {
          "name": "stdout",
          "output_type": "stream",
          "text": [
            "Method 1 of Parent class 1.\n",
            "Method2 of Parent class 2.\n",
            "Method of Child class.\n"
          ]
        }
      ],
      "source": [
        "# 6. Describe the five types of inheritance in Python. Provide a simple example of multiple inheritance.\n",
        "\n",
        "#   Ans:- Inheritance refers to process of child class receiving the properties of parent/base class.\n",
        "\n",
        "#         Single Inheritance       : A child class inherits from one parent class.\n",
        "#         Multiple inheritance     : A child class inherits from more than one parent class.\n",
        "#         Multilevel inheritance   : A child class inherits from another class, which inherits from another class.\n",
        "#         Hierarchical inheritance : Multiple classes inherit from a single parent class.\n",
        "#         Hybrid inheritance       : A combination of more than one type of inheritance.\n",
        "\n",
        "\n",
        "# Example of multiple inheritance:\n",
        "\n",
        "class ParentClass1:\n",
        "    def method1(self):\n",
        "        print(\"Method 1 of Parent class 1.\")\n",
        "class ParentClass2:\n",
        "    def method2(self):\n",
        "        print(\"Method2 of Parent class 2.\")\n",
        "\n",
        "class ChildClass(ParentClass1, ParentClass2):\n",
        "    def method(self):\n",
        "        print(\"Method of Child class.\")\n",
        "\n",
        "obj = ChildClass()\n",
        "obj.method1()\n",
        "obj.method2()\n",
        "obj.method()"
      ]
    },
    {
      "cell_type": "code",
      "execution_count": null,
      "metadata": {
        "colab": {
          "base_uri": "https://localhost:8080/"
        },
        "id": "f6VFxCwx0RCZ",
        "outputId": "e1752c79-1da5-4fbf-84cd-5656387558e7"
      },
      "outputs": [
        {
          "output_type": "stream",
          "name": "stdout",
          "text": [
            "Method of class C\n"
          ]
        }
      ],
      "source": [
        "# 7) What is the Method Resolution Order (MRO) in Python? How can you retrieve it programmatically?\n",
        "\n",
        "# Ans: Diamond problem occurs when a class inherits from 2 or more than 2 class, will lead to ambiguity\n",
        "#      in execution of methods. To remove this problem, python uses method resolution order(MRO) algorithm called\n",
        "#      c3 linearization, meaning that the class that is inherited first in the derived class, that method will be called.\n",
        "\n",
        "class A:\n",
        "    def method(self):\n",
        "        print(\"Method of class A\")\n",
        "class B(A):\n",
        "    def method(self):\n",
        "        print(\"Method of class B\")\n",
        "class C(B):\n",
        "    def method(self):\n",
        "        print(\"Method of class C\")\n",
        "class D(C,B):\n",
        "    pass\n",
        "\n",
        "\n",
        "\n",
        "d = D()\n",
        "d.method()"
      ]
    },
    {
      "cell_type": "code",
      "source": [
        "# 8) Create an abstract base class 'Shape' with an abstract method 'area()'.\n",
        "#    Then create two subclasses 'Circle' and 'Rectangle' that implement the 'area()' method.\n",
        "\n",
        "\n",
        "import abc\n",
        "\n",
        "class Shape:\n",
        "\n",
        "    @abc.abstractmethod\n",
        "    def calculate_area(self):\n",
        "        pass\n",
        "\n",
        "class Circle(Shape):\n",
        "    def calculate_area(self, r):\n",
        "      if r>0:\n",
        "        return \"Area of circle = \" + str(3.14159265359* r**2) + \" sqr mtrs\"\n",
        "      else:\n",
        "        return \"Invalid input\"\n",
        "\n",
        "class Rectangle(Shape):\n",
        "    def calculate_area(self, l ,b):\n",
        "      if l>0 and b>0:\n",
        "          return \"Area of rectangle = \" + str(l*b) + \"sqr mtrs\"\n",
        "      else:\n",
        "        return \"Invalid input\"\n",
        "\n",
        "\n",
        "c = Circle()\n",
        "r = Rectangle()\n",
        "c.calculate_area(-3.65) , r.calculate_area(3.544,94.78)"
      ],
      "metadata": {
        "id": "eGLHSh2ZuUpy",
        "colab": {
          "base_uri": "https://localhost:8080/"
        },
        "outputId": "79148a1a-9818-4c4e-9472-3ad769d7df27"
      },
      "execution_count": null,
      "outputs": [
        {
          "output_type": "execute_result",
          "data": {
            "text/plain": [
              "('Invalid input', 'Area of rectangle = 335.90032sqr mtrs')"
            ]
          },
          "metadata": {},
          "execution_count": 27
        }
      ]
    },
    {
      "cell_type": "code",
      "source": [
        "# 9) Demonstrate polymorphism by creating a function that can work with different\n",
        "#    shape objects to calculate and print their areas.\n",
        "\n",
        "def test_func(a, b):\n",
        "    return a+b\n",
        "\n",
        "\n",
        "print(test_func(78,34))\n",
        "print(test_func(\"Ranjan \", \"Srivastav\"))\n",
        "print(test_func([1,2,3],[4,5,6]))"
      ],
      "metadata": {
        "colab": {
          "base_uri": "https://localhost:8080/"
        },
        "id": "S5Ts2gdxw2yc",
        "outputId": "5ec60b06-9ea2-4055-dca2-4112f5552a2d"
      },
      "execution_count": null,
      "outputs": [
        {
          "output_type": "stream",
          "name": "stdout",
          "text": [
            "112\n",
            "Ranjan Srivastav\n",
            "[1, 2, 3, 4, 5, 6]\n"
          ]
        }
      ]
    },
    {
      "cell_type": "code",
      "source": [
        "# 10) Implement encapsulation in a 'BankAccount' class with private attributes for\n",
        "#     'balance' and 'account_number'. Include methods for deposit, withdrawal, and balance inquiry.\n",
        "\n",
        "\n",
        "class BankAccount:\n",
        "\n",
        "  def __init__(self, balance, account_number):\n",
        "    if balance < 0:\n",
        "      self.__balance = 0\n",
        "    else:\n",
        "      self.__balance = balance\n",
        "\n",
        "    if account_number < 0:\n",
        "      self.__account_number = 0\n",
        "    elif len(str(account_number)) != 12: # Account Number should be 12 digit.\n",
        "      self.__account_number = 0\n",
        "    else:\n",
        "      self.__account_number = account_number\n",
        "\n",
        "  def deposit(self,amount):\n",
        "    if amount <= 0:\n",
        "      return \"Invalid amount.\"\n",
        "    else:\n",
        "      self.__balance = self.__balance + amount\n",
        "      return \"Deposit Successful, Thank You!! You can check Your balance.\"\n",
        "\n",
        "  def withdrawal(self,amount):\n",
        "    if self.__balance >= amount:\n",
        "      self.__balance = self.__balance - amount\n",
        "      return \"Withdrawal Successful!! You can check your balance.\"\n",
        "    else:\n",
        "      return \"Insufficient Balance.\"\n",
        "\n",
        "  def balance_inquiry(self):\n",
        "    return self.__balance\n",
        "\n",
        "\n",
        "\n",
        "c1 = BankAccount(100000, 112675425678)\n",
        "c1.balance_inquiry()\n",
        "c1.deposit(50000)\n",
        "c1.balance_inquiry()\n",
        "c1.withdrawal(3000)\n",
        "c1.balance_inquiry()"
      ],
      "metadata": {
        "colab": {
          "base_uri": "https://localhost:8080/"
        },
        "id": "YOLjuoOW3oVX",
        "outputId": "22533dda-0bbd-46aa-b96c-4c205276884d"
      },
      "execution_count": null,
      "outputs": [
        {
          "output_type": "execute_result",
          "data": {
            "text/plain": [
              "147000"
            ]
          },
          "metadata": {},
          "execution_count": 7
        }
      ]
    },
    {
      "cell_type": "code",
      "source": [
        "# 11) Write a class that overrides the '__str__' and '__add__' magic methods.\n",
        "#     What will these methods allow you to do?\n",
        "\n",
        "\n",
        "class Student:\n",
        "\n",
        "  def __init__(self):\n",
        "    self.phone = 999999999\n",
        "\n",
        "  def __str__(self):\n",
        "    return \"This method overloads the print statement of object.\"\n",
        "\n",
        "  def __add__(self):\n",
        "    return \"This method overloads the + operator of object.\"\n",
        "\n",
        "  def __new__(cls): #__new__ is responsible for creating a new instance of the class\n",
        "    return \"This will be executed even before init.\"\n",
        "\n",
        "\n",
        "\n",
        "s1 = Student()\n",
        "print(s1)\n",
        "s1"
      ],
      "metadata": {
        "colab": {
          "base_uri": "https://localhost:8080/",
          "height": 53
        },
        "id": "QSh-f58v-jjk",
        "outputId": "16eabd51-06a2-4bf2-e0fb-aca71cc16028"
      },
      "execution_count": null,
      "outputs": [
        {
          "output_type": "stream",
          "name": "stdout",
          "text": [
            "This will be executed even before init.\n"
          ]
        },
        {
          "output_type": "execute_result",
          "data": {
            "text/plain": [
              "'This will be executed even before init.'"
            ],
            "application/vnd.google.colaboratory.intrinsic+json": {
              "type": "string"
            }
          },
          "metadata": {},
          "execution_count": 41
        }
      ]
    },
    {
      "cell_type": "code",
      "source": [
        "# 12) Create a decorator that measures and prints the execution time of a function.\n",
        "\n",
        "\n",
        "import time\n",
        "\n",
        "def timer_decorator(func):\n",
        "  def timer():\n",
        "    start = time.time()\n",
        "    func()\n",
        "    end = time.time()\n",
        "    print(\"The time for executing the code\", end-start)\n",
        "  return timer\n",
        "\n",
        "\n",
        "\n",
        "@timer_decorator\n",
        "def func_test():\n",
        "  print(1167887678557884439**100)\n",
        "\n",
        "\n",
        "func_test()"
      ],
      "metadata": {
        "colab": {
          "base_uri": "https://localhost:8080/"
        },
        "id": "YnPJjrEOEaZp",
        "outputId": "67b716cc-3c6d-4875-ddeb-5641fe228411"
      },
      "execution_count": null,
      "outputs": [
        {
          "output_type": "stream",
          "name": "stdout",
          "text": [
            "5496771161986310456763631183191867802501052300848229732631301459814609223426777105845520450760381361613256461840243766212213076682317395422550055693134156788337916904423405571069997627816163877533788079307969442077690324447144535112845385186966982804939610663680103450240255270149863964557196003503494400589095266776971329044073402426464767486640534139245610804227353704363044693455881810122283883086451017711613558627156086467360396888241717157664982763214215143004018258116984446299789681798436783290533309299295651775984107996734743021499117378194302820247994034338227537061095675670853810712701556862601770301736143601987691972914040186716720309554536249720817037539723282698668715025549889090744560853550172428772484833686352679281744298533396743329420535465271035319010853658765023315631117910675230289276509516674804795216880996970333349229483104488521310281989933924029462669457899656354333315242950676439864103354943482603230137574587929947038580909759212797913086246768865546150824684420244268763261850875424711366184826547761769509176196330207989724708574306250406516993574067019478534739329460649031451281765949263282657849179989025994780397798794942172971270019021038425487368233144223137445905417204965820682336184122669327775857521980933604423585933028394551761160898153402377869354314770604405609406281109564983200239252672051361001015469204815006964146974947490623388016882639729902709019660720191954218131940548793872354989158671631686435910254026321186196109165196838658078633078981259568189088403899895963851239058940032726566842418639150930235475343524313875156628237722561133995057705727913352249829986216618631096439337678315115372659477349574372117312122026681911028745425546823306476748672398993036760754281572781296198745597200559470568324963681245701202447296491750695016309076001\n",
            "The time for executing the code 0.00013375282287597656\n"
          ]
        }
      ]
    },
    {
      "cell_type": "code",
      "source": [
        "# 13) Explain the concept of the Diamond Problem in multiple inheritance. How does Python resolve it?\n",
        "\n",
        "#    Ans:- Diamond Problem occurs when a class inherits from 2 or more than 2 class,\n",
        "#          will lead to ambiguity in execution of methods. To resolve this python uses\n",
        "#          Method Resolution Order(MRO) algorithm called c3 linearization.\n",
        "\n",
        "class GrandParentClass:\n",
        "    def methodGP(self):\n",
        "        print(\"Method of Grand Parent class.\")\n",
        "\n",
        "class ParentClass1:\n",
        "    def methodPR(self):\n",
        "        print(\"Method 1 of Parent class 1.\")\n",
        "\n",
        "class ParentClass2:\n",
        "    def methodPR(self):\n",
        "        print(\"Method 2 of Parent class 2.\")\n",
        "\n",
        "class ChildClass(GrandParentClass, ParentClass2, ParentClass1):\n",
        "    def method(self):\n",
        "        print(\"Method of Child class.\")\n",
        "\n",
        "\n",
        "\n",
        "test1 = ChildClass()\n",
        "test1.method()\n",
        "test1.methodGP()\n",
        "test1.methodPR()"
      ],
      "metadata": {
        "id": "Mh85aDGC1s1t",
        "colab": {
          "base_uri": "https://localhost:8080/"
        },
        "outputId": "99eff884-1c78-4ed3-82ba-e9a789169e50"
      },
      "execution_count": null,
      "outputs": [
        {
          "output_type": "stream",
          "name": "stdout",
          "text": [
            "Method of Child class.\n",
            "Method of Grand Parent class.\n",
            "Method 2 of Parent class 2.\n"
          ]
        }
      ]
    },
    {
      "cell_type": "code",
      "source": [
        "# 14) Write a class method that keeps track of the number of instances created from a class.\n",
        "\n",
        "\n",
        "\n",
        "class Student:\n",
        "\n",
        "  total_students = 0\n",
        "  def __init__(self, name):\n",
        "    self.name = name\n",
        "    Student.total_students += 1\n",
        "\n",
        "  @classmethod\n",
        "  def get_total_students(cls):\n",
        "    return cls.total_students\n",
        "\n",
        "\n",
        "\n",
        "std1 = Student('Ranjan')\n",
        "std2 = Student('Devendra')\n",
        "\n",
        "Student.get_total_students()"
      ],
      "metadata": {
        "id": "3iVJ8a9Rfl5W",
        "colab": {
          "base_uri": "https://localhost:8080/"
        },
        "outputId": "96a6a433-c38f-411f-b564-20c503f48adb"
      },
      "execution_count": 8,
      "outputs": [
        {
          "output_type": "execute_result",
          "data": {
            "text/plain": [
              "2"
            ]
          },
          "metadata": {},
          "execution_count": 8
        }
      ]
    },
    {
      "cell_type": "code",
      "source": [
        "# 15) Implement a static method in a class that checks if a given year is a leap year.\n",
        "\n",
        "\n",
        "class Year:\n",
        "\n",
        "  @staticmethod\n",
        "  def chk_leap_year(year):\n",
        "    if (year % 4 == 0 and year % 100 != 0) or (year % 400 == 0):\n",
        "      return f\"{year} is a Leap Year.\"\n",
        "    else:\n",
        "      return f\"{year} is not a Leap Year.\"\n",
        "\n",
        "\n",
        "\n",
        "Year.chk_leap_year(2024)"
      ],
      "metadata": {
        "colab": {
          "base_uri": "https://localhost:8080/",
          "height": 35
        },
        "id": "5M39tTbrdY2c",
        "outputId": "a52e22a8-1ab9-43cd-c02f-d6e7df935ce7"
      },
      "execution_count": 18,
      "outputs": [
        {
          "output_type": "execute_result",
          "data": {
            "text/plain": [
              "'2024 is a Leap Year.'"
            ],
            "application/vnd.google.colaboratory.intrinsic+json": {
              "type": "string"
            }
          },
          "metadata": {},
          "execution_count": 18
        }
      ]
    },
    {
      "cell_type": "code",
      "source": [],
      "metadata": {
        "id": "rEEOQPxIgWY0"
      },
      "execution_count": null,
      "outputs": []
    }
  ],
  "metadata": {
    "colab": {
      "provenance": []
    },
    "kernelspec": {
      "display_name": "Python 3",
      "name": "python3"
    },
    "language_info": {
      "name": "python"
    }
  },
  "nbformat": 4,
  "nbformat_minor": 0
}